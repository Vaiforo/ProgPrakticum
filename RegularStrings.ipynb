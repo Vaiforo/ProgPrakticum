{
 "cells": [
  {
   "cell_type": "code",
   "execution_count": 87,
   "metadata": {
    "dotnet_interactive": {
     "language": "csharp"
    },
    "polyglot_notebook": {
     "kernelName": "csharp"
    },
    "vscode": {
     "languageId": "polyglot-notebook"
    }
   },
   "outputs": [
    {
     "name": "stdout",
     "output_type": "stream",
     "text": [
      "00:00:00.0317453\r\n"
     ]
    }
   ],
   "source": [
    "using System.Diagnostics;\n",
    "\n",
    "Stopwatch clock = new Stopwatch();\n",
    "clock.Start();\n",
    "\n",
    "string str = \"олежаумерс\";\n",
    "Random r = new Random();\n",
    "for (int i = 0; i <= 1000000; i++) {\n",
    "    char[] chars = str.ToCharArray();\n",
    "    chars[i % 10] = (char)(r.Next(1040, 1104));\n",
    "    str = new string(chars);\n",
    "}\n",
    "clock.Stop();\n",
    "\n",
    "Console.WriteLine(clock.Elapsed);"
   ]
  },
  {
   "cell_type": "code",
   "execution_count": 88,
   "metadata": {
    "dotnet_interactive": {
     "language": "csharp"
    },
    "polyglot_notebook": {
     "kernelName": "csharp"
    },
    "vscode": {
     "languageId": "polyglot-notebook"
    }
   },
   "outputs": [
    {
     "name": "stdout",
     "output_type": "stream",
     "text": [
      "00:00:00.0073905\r\n"
     ]
    }
   ],
   "source": [
    "using System.Diagnostics;\n",
    "\n",
    "Stopwatch clock = new Stopwatch();\n",
    "clock.Start();\n",
    "\n",
    "StringBuilder str = new StringBuilder(\"олежаумерс\");\n",
    "Random r = new Random();\n",
    "for (int i = 0; i <= 1000000; i++) {\n",
    "    str[i % 10] = (char)(r.Next(1040, 1104));\n",
    "}\n",
    "clock.Stop();\n",
    "\n",
    "Console.WriteLine(clock.Elapsed);"
   ]
  },
  {
   "cell_type": "code",
   "execution_count": 89,
   "metadata": {
    "dotnet_interactive": {
     "language": "csharp"
    },
    "polyglot_notebook": {
     "kernelName": "csharp"
    },
    "vscode": {
     "languageId": "polyglot-notebook"
    }
   },
   "outputs": [],
   "source": [
    "using System.Text.RegularExpressions;"
   ]
  },
  {
   "cell_type": "code",
   "execution_count": 90,
   "metadata": {
    "dotnet_interactive": {
     "language": "csharp"
    },
    "polyglot_notebook": {
     "kernelName": "csharp"
    },
    "vscode": {
     "languageId": "polyglot-notebook"
    }
   },
   "outputs": [
    {
     "name": "stdout",
     "output_type": "stream",
     "text": [
      "Данная строка содержит время в 24-часовом формате\n",
      "Данная строка НЕ содержит время в 24-часовом формате\n"
     ]
    }
   ],
   "source": [
    "void Printer(int count) {\n",
    "    if (count != 0) Console.WriteLine(\"Данная строка содержит время в 24-часовом формате\");\n",
    "    else Console.WriteLine(\"Данная строка НЕ содержит время в 24-часовом формате\");\n",
    "}\n",
    "\n",
    "string pattern = @\"^(2[0-4]|[0-1]\\d):[0-5]\\d:[0-5]\\d$\";\n",
    "string inputString = \"01:59:59\";\n",
    "\n",
    "MatchCollection matches = Regex.Matches(inputString, pattern, RegexOptions.IgnoreCase);\n",
    "Printer(matches.Count);\n",
    "\n",
    "inputString = \" 01:59:59 \";\n",
    "\n",
    "matches = Regex.Matches(inputString, pattern, RegexOptions.IgnoreCase);\n",
    "Printer(matches.Count);"
   ]
  },
  {
   "cell_type": "code",
   "execution_count": 91,
   "metadata": {
    "dotnet_interactive": {
     "language": "csharp"
    },
    "polyglot_notebook": {
     "kernelName": "csharp"
    },
    "vscode": {
     "languageId": "polyglot-notebook"
    }
   },
   "outputs": [
    {
     "name": "stdout",
     "output_type": "stream",
     "text": [
      "Валидный email адрес\n",
      "НЕвалидный email адрес\n"
     ]
    }
   ],
   "source": [
    "void Printer(int count) {\n",
    "    if (count != 0) Console.WriteLine(\"Валидный email адрес\");\n",
    "    else Console.WriteLine(\"НЕвалидный email адрес\");\n",
    "}\n",
    "\n",
    "string pattern = @\"^(\\w+[+.-]?)+[a-z0-9]@([a-z0-9-]+[a-z0-9]\\.)+[a-z]+$\";\n",
    "string inputString = \"_abobkof@mail.ru.ru.ru\";\n",
    "\n",
    "MatchCollection matches = Regex.Matches(inputString, pattern, RegexOptions.IgnoreCase);\n",
    "Printer(matches.Count);\n",
    "\n",
    "inputString = \"abobkof_@mail.ru.ru.ru\";\n",
    "\n",
    "matches = Regex.Matches(inputString, pattern, RegexOptions.IgnoreCase);\n",
    "Printer(matches.Count);"
   ]
  }
 ],
 "metadata": {
  "kernelspec": {
   "display_name": ".NET (C#)",
   "language": "C#",
   "name": ".net-csharp"
  },
  "language_info": {
   "name": "python"
  },
  "orig_nbformat": 4,
  "polyglot_notebook": {
   "kernelInfo": {
    "defaultKernelName": "csharp",
    "items": [
     {
      "aliases": [],
      "name": "csharp"
     }
    ]
   }
  }
 },
 "nbformat": 4,
 "nbformat_minor": 2
}
