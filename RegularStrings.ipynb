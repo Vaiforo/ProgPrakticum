{
 "cells": [
  {
   "cell_type": "code",
   "execution_count": 59,
   "metadata": {
    "dotnet_interactive": {
     "language": "csharp"
    },
    "polyglot_notebook": {
     "kernelName": "csharp"
    },
    "vscode": {
     "languageId": "polyglot-notebook"
    }
   },
   "outputs": [
    {
     "name": "stdout",
     "output_type": "stream",
     "text": [
      "00:00:00.0908909\r\n"
     ]
    }
   ],
   "source": [
    "using System.Diagnostics;\n",
    "\n",
    "Stopwatch clock = new Stopwatch();\n",
    "clock.Start();\n",
    "\n",
    "string str = \"олежаумерс\";\n",
    "Random r = new Random();\n",
    "for (int i = 0; i <= 1000000; i++) {\n",
    "    char[] chars = str.ToCharArray();\n",
    "    chars[i % 10] = (char)(r.Next(1040, 1104));\n",
    "    str = new string(chars);\n",
    "}\n",
    "clock.Stop();\n",
    "\n",
    "Console.WriteLine(clock.Elapsed);"
   ]
  },
  {
   "cell_type": "code",
   "execution_count": 63,
   "metadata": {
    "dotnet_interactive": {
     "language": "csharp"
    },
    "polyglot_notebook": {
     "kernelName": "csharp"
    },
    "vscode": {
     "languageId": "polyglot-notebook"
    }
   },
   "outputs": [
    {
     "name": "stdout",
     "output_type": "stream",
     "text": [
      "00:00:00.0221586\r\n"
     ]
    }
   ],
   "source": [
    "using System.Diagnostics;\n",
    "\n",
    "Stopwatch clock = new Stopwatch();\n",
    "clock.Start();\n",
    "\n",
    "StringBuilder str = new StringBuilder(\"олежаумерс\");\n",
    "Random r = new Random();\n",
    "for (int i = 0; i <= 1000000; i++) {\n",
    "    str[i % 10] = (char)(r.Next(1040, 1104));\n",
    "}\n",
    "clock.Stop();\n",
    "\n",
    "Console.WriteLine(clock.Elapsed);"
   ]
  }
 ],
 "metadata": {
  "language_info": {
   "name": "python"
  },
  "orig_nbformat": 4
 },
 "nbformat": 4,
 "nbformat_minor": 2
}
