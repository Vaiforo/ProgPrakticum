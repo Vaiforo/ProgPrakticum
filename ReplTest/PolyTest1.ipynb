{
 "cells": [
  {
   "cell_type": "code",
   "execution_count": 1,
   "metadata": {
    "dotnet_interactive": {
     "language": "csharp"
    },
    "polyglot_notebook": {
     "kernelName": "csharp"
    }
   },
   "outputs": [],
   "source": [
    "public class NewMath {\n",
    "    public static double[] QuadEqu(double a, double b, double c) {\n",
    "        if (a == 0) {\n",
    "            var x = Math.Round(-c / b, 3);\n",
    "            return new double[]{x};\n",
    "        } else if (b == 0) {\n",
    "            var preX = -c / a;\n",
    "            if (preX < 0) return new double[]{};\n",
    "            var x1 = Math.Round(Math.Sqrt(preX), 3);\n",
    "            var x2 = -Math.Round(Math.Sqrt(preX), 3);\n",
    "            return new double[]{x1, x2};\n",
    "        } else if (c == 0) {\n",
    "            var x = Math.Round(-b / a, 3);\n",
    "            return new double[]{0, x};\n",
    "        }\n",
    "        \n",
    "        var D = Math.Pow(b, 2) - 4 * a * c;\n",
    "        if (D > 0) {\n",
    "            var x1 = Math.Round((-b + Math.Sqrt(D)) / 2 * a, 3);\n",
    "            var x2 = Math.Round((-b - Math.Sqrt(D)) / 2 * a, 3);\n",
    "            return new double[]{x1, x2};\n",
    "        } else if (D == 0) {\n",
    "            var x = Math.Round(-b / 2 * a, 3);\n",
    "            return new double[]{x};\n",
    "        } return new double[]{};\n",
    "    }\n",
    "}"
   ]
  },
  {
   "cell_type": "code",
   "execution_count": 3,
   "metadata": {
    "dotnet_interactive": {
     "language": "csharp"
    },
    "polyglot_notebook": {
     "kernelName": "csharp"
    }
   },
   "outputs": [
    {
     "name": "stdout",
     "output_type": "stream",
     "text": [
      "С 2мя решениями\n",
      "6\n",
      "-4\n",
      "С 1м решением\n",
      "2\n",
      "Нет решений\n",
      "Конец вывода\n",
      "Неполное если a=0\n",
      "4\n",
      "Неполное если b=0\n",
      "2\n",
      "-2\n",
      "Неполное если c=0\n",
      "0\n",
      "-5\n",
      "Проверка\n",
      "0\n",
      "-4000000000\n"
     ]
    }
   ],
   "source": [
    "Console.WriteLine(\"С 2мя решениями\");\n",
    "foreach (double x in NewMath.QuadEqu(1, -2, -24)) Console.WriteLine(x);\n",
    "Console.WriteLine(\"С 1м решением\");\n",
    "foreach (double x in NewMath.QuadEqu(1, -4, 4)) Console.WriteLine(x);\n",
    "Console.WriteLine(\"Нет решений\");\n",
    "foreach (double x in NewMath.QuadEqu(1, 1, 1)) Console.WriteLine(x);\n",
    "Console.WriteLine(\"Конец вывода\");\n",
    "\n",
    "Console.WriteLine(\"Неполное если a=0\");\n",
    "foreach (double x in NewMath.QuadEqu(0, -2, 8)) Console.WriteLine(x);\n",
    "Console.WriteLine(\"Неполное если b=0\");\n",
    "foreach (double x in NewMath.QuadEqu(2, 0, -8)) Console.WriteLine(x);\n",
    "Console.WriteLine(\"Неполное если c=0\");\n",
    "foreach (double x in NewMath.QuadEqu(5, 25, 0)) Console.WriteLine(x);\n",
    "\n",
    "Console.WriteLine(\"Проверка\");\n",
    "foreach (double x in NewMath.QuadEqu(1, 4000000000, -1)) Console.WriteLine(x);"
   ]
  },
  {
   "cell_type": "code",
   "execution_count": 6,
   "metadata": {
    "dotnet_interactive": {
     "language": "csharp"
    },
    "polyglot_notebook": {
     "kernelName": "csharp"
    }
   },
   "outputs": [
    {
     "name": "stdout",
     "output_type": "stream",
     "text": [
      "8\r\n"
     ]
    }
   ],
   "source": [
    "Console.WriteLine(sizeof(double));"
   ]
  }
 ],
 "metadata": {
  "kernelspec": {
   "display_name": ".NET (C#)",
   "language": "C#",
   "name": ".net-csharp"
  },
  "language_info": {
   "name": "polyglot-notebook"
  },
  "polyglot_notebook": {
   "kernelInfo": {
    "defaultKernelName": "csharp",
    "items": [
     {
      "aliases": [],
      "languageName": "csharp",
      "name": "csharp"
     }
    ]
   }
  }
 },
 "nbformat": 4,
 "nbformat_minor": 2
}
