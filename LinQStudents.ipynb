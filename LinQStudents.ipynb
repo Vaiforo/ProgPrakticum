{
 "cells": [
  {
   "cell_type": "code",
   "execution_count": 8,
   "metadata": {
    "vscode": {
     "languageId": "polyglot-notebook"
    }
   },
   "outputs": [
    {
     "data": {
      "text/html": [
       "<div><div></div><div></div><div><strong>Installed Packages</strong><ul><li><span>Newtonsoft.Json, 13.0.3</span></li></ul></div></div>"
      ]
     },
     "metadata": {},
     "output_type": "display_data"
    }
   ],
   "source": [
    "#r \"nuget:Newtonsoft.Json\""
   ]
  },
  {
   "cell_type": "code",
   "execution_count": 21,
   "metadata": {
    "dotnet_interactive": {
     "language": "csharp"
    },
    "polyglot_notebook": {
     "kernelName": "csharp"
    },
    "vscode": {
     "languageId": "polyglot-notebook"
    }
   },
   "outputs": [],
   "source": [
    "using System.IO;\n",
    "using Newtonsoft.Json;\n",
    "\n",
    "public class Student {\n",
    "    public string name;\n",
    "    public string group;\n",
    "    public string discipline;\n",
    "    public int mark;\n",
    "}\n",
    "\n",
    "public class Task {\n",
    "    public string taskName;\n",
    "    public List<Student> data;\n",
    "}"
   ]
  },
  {
   "cell_type": "code",
   "execution_count": 22,
   "metadata": {
    "vscode": {
     "languageId": "polyglot-notebook"
    }
   },
   "outputs": [
    {
     "ename": "Error",
     "evalue": "(8,34): error CS1002: Требуется \";\".",
     "output_type": "error",
     "traceback": [
      "(8,34): error CS1002: Требуется \";\"."
     ]
    }
   ],
   "source": [
    "public static void TaskCompleter(string fileName) {\n",
    "    string jsonData = File.ReadAllText(fileName);\n",
    "\n",
    "    Task task = JsonConvert.DeserializeObject<Task>(jsonData);\n",
    "\n",
    "    var maxGPA = from student in (\n",
    "                    from srudentInfo in task.data\n",
    "                    group srudentInfo.mark by srudentInfo into avMarks\n",
    "                    select new\n",
    "                    {\n",
    "                        StudentInfo = avMarks.Key,\n",
    "                        GPA = avMarks.ToList().Average()\n",
    "                    }\n",
    "                ) select student.GPA.Max();\n",
    "\n",
    "\n",
    "    // var getStudentsWithHighestGPA = from student in (\n",
    "    //                                     from srudentInfo in task.data\n",
    "    //                                     group srudentInfo.mark by srudentInfo into avMarks\n",
    "    //                                     select new\n",
    "    //                                     {\n",
    "    //                                         StudentInfo = avMarks.Key,\n",
    "    //                                         GPA = avMarks.ToList().Average()\n",
    "    //                                     }\n",
    "    //                                 )\n",
    "    //                                 where student.GPA.M\n",
    "    //                                 ;\n",
    "}"
   ]
  },
  {
   "cell_type": "code",
   "execution_count": 19,
   "metadata": {
    "vscode": {
     "languageId": "polyglot-notebook"
    }
   },
   "outputs": [],
   "source": [
    "/// GetStudentsWithHighestGPA ///\n",
    "\n",
    "string fileName = @\"GetStudentsWithHighestGPA.json\";\n",
    "\n",
    "TaskCompleter(fileName);"
   ]
  }
 ],
 "metadata": {
  "kernelspec": {
   "display_name": ".NET (C#)",
   "language": "C#",
   "name": ".net-csharp"
  },
  "language_info": {
   "name": "python"
  },
  "polyglot_notebook": {
   "kernelInfo": {
    "defaultKernelName": "csharp",
    "items": [
     {
      "aliases": [],
      "name": "csharp"
     }
    ]
   }
  }
 },
 "nbformat": 4,
 "nbformat_minor": 2
}
