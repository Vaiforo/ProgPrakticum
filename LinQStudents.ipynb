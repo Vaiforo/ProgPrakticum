{
 "cells": [
  {
   "cell_type": "code",
   "execution_count": 63,
   "metadata": {
    "dotnet_interactive": {
     "language": "csharp"
    },
    "polyglot_notebook": {
     "kernelName": "csharp"
    },
    "vscode": {
     "languageId": "polyglot-notebook"
    }
   },
   "outputs": [
    {
     "data": {
      "text/html": [
       "<div><div></div><div></div><div><strong>Installed Packages</strong><ul><li><span>Newtonsoft.Json, 13.0.3</span></li></ul></div></div>"
      ]
     },
     "metadata": {},
     "output_type": "display_data"
    }
   ],
   "source": [
    "#r \"nuget:Newtonsoft.Json\""
   ]
  },
  {
   "cell_type": "code",
   "execution_count": 64,
   "metadata": {
    "dotnet_interactive": {
     "language": "csharp"
    },
    "polyglot_notebook": {
     "kernelName": "csharp"
    },
    "vscode": {
     "languageId": "polyglot-notebook"
    }
   },
   "outputs": [],
   "source": [
    "using System.IO;\n",
    "using Newtonsoft.Json;\n",
    "\n",
    "public class Student {\n",
    "    public string name;\n",
    "    public string Group;\n",
    "    public string discipline;\n",
    "    public float mark;\n",
    "}\n",
    "\n",
    "public class Task {\n",
    "    public string taskName;\n",
    "    public List<Student> data;\n",
    "}\n",
    "\n",
    "static string outFileName = @\"resFile.json\";\n",
    "FileInfo thirdFile = new(outFileName);\n",
    "thirdFile.Create().Close();"
   ]
  },
  {
   "cell_type": "code",
   "execution_count": 69,
   "metadata": {
    "dotnet_interactive": {
     "language": "csharp"
    },
    "polyglot_notebook": {
     "kernelName": "csharp"
    },
    "vscode": {
     "languageId": "polyglot-notebook"
    }
   },
   "outputs": [],
   "source": [
    "public static void TaskCompleter(string fileName) {\n",
    "    string jsonData = File.ReadAllText(fileName);\n",
    "\n",
    "    Task task = JsonConvert.DeserializeObject<Task>(jsonData);\n",
    "\n",
    "    var studentsGPA = from studentInfo in task.data\n",
    "                    group studentInfo.mark by studentInfo.name into avMarks\n",
    "                    select new\n",
    "                    {\n",
    "                        StudentInfo = avMarks.Key,\n",
    "                        GPA = avMarks.ToList().Average()\n",
    "                    };\n",
    "\n",
    "    var getStudentsWithHighestGPA = from student in studentsGPA\n",
    "                                    where student.GPA == studentsGPA.Max(s => s.GPA)\n",
    "                                    select student;\n",
    "    \n",
    "    var calculateGPAByDiscipline = from student in task.data\n",
    "                    group student.mark by student.discipline into avMarks\n",
    "                    select new\n",
    "                    {\n",
    "                        Discipline = avMarks.Key,\n",
    "                        GPA = avMarks.ToList().Average()\n",
    "                    };\n",
    "    \n",
    "    var disciplineGpoupGPA = from student in task.data\n",
    "                            group student by student.discipline into avMarks\n",
    "                            select new \n",
    "                            {\n",
    "                                Discipline = avMarks.Key,\n",
    "                                GroupGPA = (from student in avMarks\n",
    "                                        group student by student.Group into groupGPAs\n",
    "                                        select new\n",
    "                                        {\n",
    "                                            GroupName = groupGPAs.Key,\n",
    "                                            GPA = groupGPAs.Average(g => g.mark)\n",
    "                                        })\n",
    "                            };\n",
    "    \n",
    "    StreamWriter writer = new(outFileName);\n",
    "    \n",
    "    if (task.taskName == \"GetStudentsWithHighestGPA\") {\n",
    "        \n",
    "    } else if (task.taskName == \"CalculateGPAByDiscipline\") {\n",
    "        \n",
    "    } else if (task.taskName == \"GetBestGroupsByDiscipline\") {\n",
    "        foreach (var dis in disciplineGpoupGPA) {\n",
    "            Console.WriteLine($\"{dis.Discipline}\");\n",
    "            Console.WriteLine($\"{dis.GroupGPA}\");\n",
    "            // foreach (var group in dis.GroupGPA) {\n",
    "            //     Console.WriteLine($\"{group.GroupName} {group.GPA}\");\n",
    "            // }\n",
    "        }\n",
    "    }\n",
    "\n",
    "    writer.Close();\n",
    "}"
   ]
  },
  {
   "cell_type": "code",
   "execution_count": 66,
   "metadata": {
    "dotnet_interactive": {
     "language": "csharp"
    },
    "polyglot_notebook": {
     "kernelName": "csharp"
    },
    "vscode": {
     "languageId": "polyglot-notebook"
    }
   },
   "outputs": [],
   "source": [
    "/// GetStudentsWithHighestGPA ///\n",
    "\n",
    "string fileName = @\"GetStudentsWithHighestGPA.json\";\n",
    "\n",
    "TaskCompleter(fileName);"
   ]
  },
  {
   "cell_type": "code",
   "execution_count": 67,
   "metadata": {
    "dotnet_interactive": {
     "language": "csharp"
    },
    "polyglot_notebook": {
     "kernelName": "csharp"
    },
    "vscode": {
     "languageId": "polyglot-notebook"
    }
   },
   "outputs": [],
   "source": [
    "/// CalculateGPAByDiscipline ///\n",
    "\n",
    "string fileName = @\"CalculateGPAByDiscipline.json\";\n",
    "\n",
    "TaskCompleter(fileName);"
   ]
  },
  {
   "cell_type": "code",
   "execution_count": 70,
   "metadata": {
    "dotnet_interactive": {
     "language": "csharp"
    },
    "polyglot_notebook": {
     "kernelName": "csharp"
    },
    "vscode": {
     "languageId": "polyglot-notebook"
    }
   },
   "outputs": [
    {
     "name": "stdout",
     "output_type": "stream",
     "text": [
      "Programming\n",
      "4,5\n",
      "Algebra\n",
      "4,5\n"
     ]
    }
   ],
   "source": [
    "/// CalculateGPAByDiscipline ///\n",
    "\n",
    "string fileName = @\"GetBestGroupsByDiscipline.json\";\n",
    "\n",
    "TaskCompleter(fileName);"
   ]
  }
 ],
 "metadata": {
  "kernelspec": {
   "display_name": ".NET (C#)",
   "language": "C#",
   "name": ".net-csharp"
  },
  "language_info": {
   "name": "python"
  },
  "polyglot_notebook": {
   "kernelInfo": {
    "defaultKernelName": "csharp",
    "items": [
     {
      "aliases": [],
      "name": "csharp"
     }
    ]
   }
  }
 },
 "nbformat": 4,
 "nbformat_minor": 2
}
