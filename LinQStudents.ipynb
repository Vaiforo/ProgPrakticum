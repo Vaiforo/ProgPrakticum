{
 "cells": [
  {
   "cell_type": "code",
   "execution_count": 7,
   "metadata": {
    "dotnet_interactive": {
     "language": "csharp"
    },
    "polyglot_notebook": {
     "kernelName": "csharp"
    },
    "vscode": {
     "languageId": "polyglot-notebook"
    }
   },
   "outputs": [
    {
     "data": {
      "text/html": [
       "<div><div></div><div></div><div><strong>Installed Packages</strong><ul><li><span>Newtonsoft.Json, 13.0.3</span></li></ul></div></div>"
      ]
     },
     "metadata": {},
     "output_type": "display_data"
    }
   ],
   "source": [
    "#r \"nuget:Newtonsoft.Json\""
   ]
  },
  {
   "cell_type": "code",
   "execution_count": 8,
   "metadata": {
    "dotnet_interactive": {
     "language": "csharp"
    },
    "polyglot_notebook": {
     "kernelName": "csharp"
    },
    "vscode": {
     "languageId": "polyglot-notebook"
    }
   },
   "outputs": [],
   "source": [
    "using System.IO;\n",
    "using Newtonsoft.Json;\n",
    "\n",
    "public class Student\n",
    "{\n",
    "    public string name;\n",
    "    public string Group;\n",
    "    public string discipline;\n",
    "    public float mark;\n",
    "}\n",
    "\n",
    "public class Task\n",
    "{    \n",
    "    public string taskName;\n",
    "    public List<Student> data;\n",
    "}\n",
    "\n",
    "static string outFileName = @\"resFile.json\";\n",
    "FileInfo thirdFile = new(outFileName);\n",
    "thirdFile.Create().Close();"
   ]
  },
  {
   "cell_type": "code",
   "execution_count": 9,
   "metadata": {
    "dotnet_interactive": {
     "language": "csharp"
    },
    "polyglot_notebook": {
     "kernelName": "csharp"
    },
    "vscode": {
     "languageId": "polyglot-notebook"
    }
   },
   "outputs": [],
   "source": [
    "public static void TaskCompleter(string fileName)\n",
    "{\n",
    "    string jsonData = File.ReadAllText(fileName);\n",
    "\n",
    "    Task task = JsonConvert.DeserializeObject<Task>(jsonData);\n",
    "\n",
    "    var studentsGPA = from studentInfo in task.data\n",
    "                    group studentInfo.mark by studentInfo.name into avMarks\n",
    "                    select new\n",
    "                    {\n",
    "                        Cadet = avMarks.Key,\n",
    "                        GPA = avMarks.ToList().Average()\n",
    "                    };\n",
    "\n",
    "    var getStudentsWithHighestGPA = from student in studentsGPA\n",
    "                                    where student.GPA == studentsGPA.Max(s => s.GPA)\n",
    "                                    select student;\n",
    "    \n",
    "    var calculateGPAByDiscipline = from student in task.data\n",
    "                                group student.mark by student.discipline into avMarks\n",
    "                                select new\n",
    "                                {\n",
    "                                    Discipline = avMarks.Key,\n",
    "                                    GPA = avMarks.ToList().Average()\n",
    "                                };\n",
    "    \n",
    "    var disciplineGpoupGPA = from student in task.data\n",
    "                            group student by new { student.Group, student.discipline } into gS\n",
    "                            select new\n",
    "                            {\n",
    "                                Discipline = gS.Key.discipline,\n",
    "                                GroupName = gS.Key.Group,\n",
    "                                GPA = gS.Average(s => s.mark)\n",
    "                            }\n",
    "                            into GPAGroup\n",
    "                            group GPAGroup by GPAGroup.Discipline into gS\n",
    "                            select new\n",
    "                            {\n",
    "                                Discipline = gS.Key,\n",
    "                                Group = gS.OrderByDescending(g => g.GPA).First().GroupName,\n",
    "                                GPA = gS.OrderByDescending(g => g.GPA).First().GPA\n",
    "                            };\n",
    "    \n",
    "    StreamWriter writer = new(outFileName);\n",
    "\n",
    "    string json = \"\";\n",
    "    switch (task.taskName)\n",
    "    {\n",
    "        case \"GetStudentsWithHighestGPA\":\n",
    "            json = JsonConvert.SerializeObject(\n",
    "                new { Respone = getStudentsWithHighestGPA },\n",
    "                Formatting.Indented\n",
    "            );\n",
    "            break;\n",
    "        case \"CalculateGPAByDiscipline\":\n",
    "            json = JsonConvert.SerializeObject(\n",
    "                new { Respone = calculateGPAByDiscipline },\n",
    "                Formatting.Indented\n",
    "            );\n",
    "            break;\n",
    "        case \"GetBestGroupsByDiscipline\":\n",
    "            json = JsonConvert.SerializeObject(\n",
    "                new { Respone = disciplineGpoupGPA },\n",
    "                Formatting.Indented\n",
    "            );\n",
    "            break;\n",
    "    }\n",
    "\n",
    "    writer.Write(json);\n",
    "    writer.Close();\n",
    "}"
   ]
  },
  {
   "cell_type": "code",
   "execution_count": 20,
   "metadata": {
    "dotnet_interactive": {
     "language": "csharp"
    },
    "polyglot_notebook": {
     "kernelName": "csharp"
    },
    "vscode": {
     "languageId": "polyglot-notebook"
    }
   },
   "outputs": [],
   "source": [
    "/// GetStudentsWithHighestGPA ///\n",
    "\n",
    "string fileName = @\"GetStudentsWithHighestGPA.json\";\n",
    "\n",
    "TaskCompleter(fileName);"
   ]
  },
  {
   "cell_type": "code",
   "execution_count": 21,
   "metadata": {
    "dotnet_interactive": {
     "language": "csharp"
    },
    "polyglot_notebook": {
     "kernelName": "csharp"
    },
    "vscode": {
     "languageId": "polyglot-notebook"
    }
   },
   "outputs": [],
   "source": [
    "/// CalculateGPAByDiscipline ///\n",
    "\n",
    "string fileName = @\"CalculateGPAByDiscipline.json\";\n",
    "\n",
    "TaskCompleter(fileName);"
   ]
  },
  {
   "cell_type": "code",
   "execution_count": 22,
   "metadata": {
    "dotnet_interactive": {
     "language": "csharp"
    },
    "polyglot_notebook": {
     "kernelName": "csharp"
    },
    "vscode": {
     "languageId": "polyglot-notebook"
    }
   },
   "outputs": [],
   "source": [
    "/// CalculateGPAByDiscipline ///\n",
    "\n",
    "string fileName = @\"GetBestGroupsByDiscipline.json\";\n",
    "\n",
    "TaskCompleter(fileName);"
   ]
  },
  {
   "cell_type": "markdown",
   "metadata": {},
   "source": [
    "Входной файл:\n",
    "{\n",
    "  \"taskName\": \"GetStudentsWithHighestGPA\",\n",
    "  \"data\": [\n",
    "    {\n",
    "      \"name\": \"Cadet1\",\n",
    "      \"group\": \"SC-991\",\n",
    "      \"discipline\": \"Programming\",\n",
    "      \"mark\": 5\n",
    "    },\n",
    "    {\n",
    "      \"name\": \"Cadet2\",\n",
    "      \"group\": \"SC-991\",\n",
    "      \"discipline\": \"Programming\",\n",
    "      \"mark\": 3\n",
    "    },\n",
    "    {\n",
    "      \"name\": \"Cadet1\",\n",
    "      \"group\": \"SC-991\",\n",
    "      \"discipline\": \"Algebra\",\n",
    "      \"mark\": 5\n",
    "    },\n",
    "    {\n",
    "      \"name\": \"Cadet2\",\n",
    "      \"group\": \"SC-991\",\n",
    "      \"discipline\": \"Algebra\",\n",
    "      \"mark\": 4\n",
    "    },\n",
    "    {\n",
    "      \"name\": \"Cadet3\",\n",
    "      \"group\": \"SC-992\",\n",
    "      \"discipline\": \"Programming\",\n",
    "      \"mark\": 4\n",
    "    },\n",
    "    {\n",
    "      \"name\": \"Cadet4\",\n",
    "      \"group\": \"SC-992\",\n",
    "      \"discipline\": \"Programming\",\n",
    "      \"mark\": 5\n",
    "    },\n",
    "    {\n",
    "      \"name\": \"Cadet3\",\n",
    "      \"group\": \"SC-992\",\n",
    "      \"discipline\": \"Algebra\",\n",
    "      \"mark\": 3\n",
    "    },\n",
    "    {\n",
    "      \"name\": \"Cadet4\",\n",
    "      \"group\": \"SC-992\",\n",
    "      \"discipline\": \"Algebra\",\n",
    "      \"mark\": 5\n",
    "    }\n",
    "  ]\n",
    "}\n",
    "\n",
    "Выходной файл:\n",
    "{\n",
    "  \"Response\": [\n",
    "    {\n",
    "      \"Cadet\": \"Cadet1\",\n",
    "      \"GPA\": 5\n",
    "    },\n",
    "    {\n",
    "      \"Cadet\": \"Cadet4\",\n",
    "      \"GPA\": 5\n",
    "    }\n",
    "  ]\n",
    "}"
   ]
  },
  {
   "cell_type": "markdown",
   "metadata": {},
   "source": [
    "Входной файл:\n",
    "{\n",
    "  \"taskName\": \"CalculateGPAByDiscipline\",\n",
    "  \"data\": [\n",
    "    {\n",
    "      \"name\": \"Cadet1\",\n",
    "      \"group\": \"SC-991\",\n",
    "      \"discipline\": \"Programming\",\n",
    "      \"mark\": 5\n",
    "    },\n",
    "    {\n",
    "      \"name\": \"Cadet2\",\n",
    "      \"group\": \"SC-991\",\n",
    "      \"discipline\": \"Programming\",\n",
    "      \"mark\": 3\n",
    "    },\n",
    "    {\n",
    "      \"name\": \"Cadet1\",\n",
    "      \"group\": \"SC-991\",\n",
    "      \"discipline\": \"Algebra\",\n",
    "      \"mark\": 5\n",
    "    },\n",
    "    {\n",
    "      \"name\": \"Cadet2\",\n",
    "      \"group\": \"SC-991\",\n",
    "      \"discipline\": \"Algebra\",\n",
    "      \"mark\": 4\n",
    "    },\n",
    "    {\n",
    "      \"name\": \"Cadet3\",\n",
    "      \"group\": \"SC-992\",\n",
    "      \"discipline\": \"Programming\",\n",
    "      \"mark\": 4\n",
    "    },\n",
    "    {\n",
    "      \"name\": \"Cadet4\",\n",
    "      \"group\": \"SC-992\",\n",
    "      \"discipline\": \"Programming\",\n",
    "      \"mark\": 5\n",
    "    },\n",
    "    {\n",
    "      \"name\": \"Cadet3\",\n",
    "      \"group\": \"SC-992\",\n",
    "      \"discipline\": \"Algebra\",\n",
    "      \"mark\": 3\n",
    "    },\n",
    "    {\n",
    "      \"name\": \"Cadet4\",\n",
    "      \"group\": \"SC-992\",\n",
    "      \"discipline\": \"Algebra\",\n",
    "      \"mark\": 5\n",
    "    }\n",
    "  ]\n",
    "}\n",
    "\n",
    "Выходной файл:\n",
    "{\n",
    "  \"Response\": [\n",
    "    {\n",
    "      \"Programming\": 4.25\n",
    "    },\n",
    "    {\n",
    "      \"Algebra\": 4.25\n",
    "    }\n",
    "  ]\n",
    "}"
   ]
  },
  {
   "cell_type": "markdown",
   "metadata": {},
   "source": [
    "Входной файл:\n",
    "{\n",
    "  \"taskName\": \"GetBestGroupsByDiscipline\",\n",
    "  \"data\": [\n",
    "    {\n",
    "      \"name\": \"Cadet1\",\n",
    "      \"group\": \"SC-991\",\n",
    "      \"discipline\": \"Programming\",\n",
    "      \"mark\": 5\n",
    "    },\n",
    "    {\n",
    "      \"name\": \"Cadet2\",\n",
    "      \"group\": \"SC-991\",\n",
    "      \"discipline\": \"Programming\",\n",
    "      \"mark\": 3\n",
    "    },\n",
    "    {\n",
    "      \"name\": \"Cadet1\",\n",
    "      \"group\": \"SC-991\",\n",
    "      \"discipline\": \"Algebra\",\n",
    "      \"mark\": 5\n",
    "    },\n",
    "    {\n",
    "      \"name\": \"Cadet2\",\n",
    "      \"group\": \"SC-991\",\n",
    "      \"discipline\": \"Algebra\",\n",
    "      \"mark\": 4\n",
    "    },\n",
    "    {\n",
    "      \"name\": \"Cadet3\",\n",
    "      \"group\": \"SC-992\",\n",
    "      \"discipline\": \"Programming\",\n",
    "      \"mark\": 4\n",
    "    },\n",
    "    {\n",
    "      \"name\": \"Cadet4\",\n",
    "      \"group\": \"SC-992\",\n",
    "      \"discipline\": \"Programming\",\n",
    "      \"mark\": 5\n",
    "    },\n",
    "    {\n",
    "      \"name\": \"Cadet3\",\n",
    "      \"group\": \"SC-992\",\n",
    "      \"discipline\": \"Algebra\",\n",
    "      \"mark\": 3\n",
    "    },\n",
    "    {\n",
    "      \"name\": \"Cadet4\",\n",
    "      \"group\": \"SC-992\",\n",
    "      \"discipline\": \"Algebra\",\n",
    "      \"mark\": 5|\n",
    "    }\n",
    "  ]\n",
    "}\n",
    "\n",
    "Выходной файл:\n",
    "{\n",
    "  \"Response\": [\n",
    "    {\n",
    "      \"Discipline\": \"Programming\",\n",
    "      \"Group\": \"SC-992\",\n",
    "      \"GPA\": 4.5\n",
    "    },\n",
    "    {\n",
    "      \"Discipline\": \"Algebra\",\n",
    "      \"Group\": \"SC-991\",\n",
    "      \"GPA\": 4.5\n",
    "    }\n",
    "  ]\n",
    "}"
   ]
  }
 ],
 "metadata": {
  "kernelspec": {
   "display_name": ".NET (C#)",
   "language": "C#",
   "name": ".net-csharp"
  },
  "language_info": {
   "name": "python"
  },
  "polyglot_notebook": {
   "kernelInfo": {
    "defaultKernelName": "csharp",
    "items": [
     {
      "aliases": [],
      "name": "csharp"
     }
    ]
   }
  }
 },
 "nbformat": 4,
 "nbformat_minor": 2
}
