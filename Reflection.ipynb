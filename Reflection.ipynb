{
 "cells": [
  {
   "cell_type": "code",
   "execution_count": 51,
   "metadata": {
    "dotnet_interactive": {
     "language": "csharp"
    },
    "polyglot_notebook": {
     "kernelName": "csharp"
    },
    "vscode": {
     "languageId": "polyglot-notebook"
    }
   },
   "outputs": [],
   "source": [
    "using System.Reflection;"
   ]
  },
  {
   "cell_type": "code",
   "execution_count": 52,
   "metadata": {
    "dotnet_interactive": {
     "language": "csharp"
    },
    "polyglot_notebook": {
     "kernelName": "csharp"
    },
    "vscode": {
     "languageId": "polyglot-notebook"
    }
   },
   "outputs": [],
   "source": [
    "Assembly reflects = Assembly.LoadFrom(\"core\");\n",
    "Type[] allTypes = reflects.GetTypes();"
   ]
  },
  {
   "cell_type": "code",
   "execution_count": 53,
   "metadata": {
    "dotnet_interactive": {
     "language": "csharp"
    },
    "polyglot_notebook": {
     "kernelName": "csharp"
    },
    "vscode": {
     "languageId": "polyglot-notebook"
    }
   },
   "outputs": [
    {
     "name": "stdout",
     "output_type": "stream",
     "text": [
      "Name: ICommand\n",
      "                               ===Methods table===\n",
      "CIName: Execute                Return Type: System.Void            Parameters: \n",
      "\n",
      "Name: IoC\n",
      "                               ===Methods table===\n",
      "CIName: Resolve                Return Type: T                      Parameters: System.String , System.Object[]\n",
      "CIName: GetType                Return Type: System.Type            Parameters: \n",
      "CIName: ToString               Return Type: System.String          Parameters: \n",
      "CIName: Equals                 Return Type: System.Boolean         Parameters: System.Object\n",
      "CIName: GetHashCode            Return Type: System.Int32           Parameters: \n",
      "\r\n"
     ]
    }
   ],
   "source": [
    "var classesAndInterfacesFromCore = (\n",
    "    from type in allTypes.Where(t => (t.IsClass || t.IsInterface) && t.IsPublic)\n",
    "    let methods = $\"{\"===Methods table===\".PadLeft(50)}\\n{String.Join(\n",
    "                \"\\n\",\n",
    "                from method in type.GetMethods(BindingFlags.Public | BindingFlags.Instance | BindingFlags.Static)\n",
    "                let parameters = String.Join(\" , \", from parameter in method.GetParameters() select parameter.ParameterType)\n",
    "                select $\"CIName: {(string)(method.Name).PadRight(23)}Return Type: {method.ReturnType.ToString().PadRight(23)}Parameters: {parameters}\"\n",
    "            )}\\n\"\n",
    "    select $\"Name: {type.Name}\\n{methods}\"\n",
    ");\n",
    "Console.WriteLine(String.Join(\"\\n\", classesAndInterfacesFromCore));"
   ]
  }
 ],
 "metadata": {
  "kernelspec": {
   "display_name": ".NET (C#)",
   "language": "C#",
   "name": ".net-csharp"
  },
  "language_info": {
   "name": "python"
  },
  "polyglot_notebook": {
   "kernelInfo": {
    "defaultKernelName": "csharp",
    "items": [
     {
      "aliases": [],
      "name": "csharp"
     }
    ]
   }
  }
 },
 "nbformat": 4,
 "nbformat_minor": 2
}
