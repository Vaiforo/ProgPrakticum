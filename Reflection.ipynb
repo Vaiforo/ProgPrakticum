{
 "cells": [
  {
   "cell_type": "code",
   "execution_count": 2,
   "metadata": {
    "dotnet_interactive": {
     "language": "csharp"
    },
    "polyglot_notebook": {
     "kernelName": "csharp"
    },
    "vscode": {
     "languageId": "polyglot-notebook"
    }
   },
   "outputs": [],
   "source": [
    "using System.Reflection;"
   ]
  },
  {
   "cell_type": "code",
   "execution_count": 3,
   "metadata": {
    "dotnet_interactive": {
     "language": "csharp"
    },
    "polyglot_notebook": {
     "kernelName": "csharp"
    },
    "vscode": {
     "languageId": "polyglot-notebook"
    }
   },
   "outputs": [],
   "source": [
    "Assembly reflects = Assembly.LoadFrom(\"core\");\n",
    "Type[] allTypes = reflects.GetTypes();"
   ]
  },
  {
   "cell_type": "code",
   "execution_count": 4,
   "metadata": {
    "dotnet_interactive": {
     "language": "csharp"
    },
    "polyglot_notebook": {
     "kernelName": "csharp"
    },
    "vscode": {
     "languageId": "polyglot-notebook"
    }
   },
   "outputs": [
    {
     "name": "stdout",
     "output_type": "stream",
     "text": [
      "Microsoft.CodeAnalysis.EmbeddedAttribute\n",
      "CIName: Equals               Return Type: System.Boolean       Parametrs: System.Object\n",
      "CIName: GetHashCode          Return Type: System.Int32         Parametrs: None\n",
      "CIName: get_TypeId           Return Type: System.Object        Parametrs: None\n",
      "CIName: Match                Return Type: System.Boolean       Parametrs: System.Object\n",
      "CIName: IsDefaultAttribute   Return Type: System.Boolean       Parametrs: None\n",
      "CIName: GetType              Return Type: System.Type          Parametrs: None\n",
      "CIName: ToString             Return Type: System.String        Parametrs: None\n",
      "\n",
      "System.Runtime.CompilerServices.NullableAttribute\n",
      "CIName: Equals               Return Type: System.Boolean       Parametrs: System.Object\n",
      "CIName: GetHashCode          Return Type: System.Int32         Parametrs: None\n",
      "CIName: get_TypeId           Return Type: System.Object        Parametrs: None\n",
      "CIName: Match                Return Type: System.Boolean       Parametrs: System.Object\n",
      "CIName: IsDefaultAttribute   Return Type: System.Boolean       Parametrs: None\n",
      "CIName: GetType              Return Type: System.Type          Parametrs: None\n",
      "CIName: ToString             Return Type: System.String        Parametrs: None\n",
      "\n",
      "System.Runtime.CompilerServices.NullableContextAttribute\n",
      "CIName: Equals               Return Type: System.Boolean       Parametrs: System.Object\n",
      "CIName: GetHashCode          Return Type: System.Int32         Parametrs: None\n",
      "CIName: get_TypeId           Return Type: System.Object        Parametrs: None\n",
      "CIName: Match                Return Type: System.Boolean       Parametrs: System.Object\n",
      "CIName: IsDefaultAttribute   Return Type: System.Boolean       Parametrs: None\n",
      "CIName: GetType              Return Type: System.Type          Parametrs: None\n",
      "CIName: ToString             Return Type: System.String        Parametrs: None\n",
      "\n",
      "HWdTech.ICommand\n",
      "CIName: Execute              Return Type: System.Void          Parametrs: None\n",
      "\n",
      "HWdTech.IoC\n",
      "CIName: Resolve              Return Type: T                    Parametrs: System.String, System.Object[]\n",
      "CIName: GetType              Return Type: System.Type          Parametrs: None\n",
      "CIName: ToString             Return Type: System.String        Parametrs: None\n",
      "CIName: Equals               Return Type: System.Boolean       Parametrs: System.Object\n",
      "CIName: GetHashCode          Return Type: System.Int32         Parametrs: None\n",
      "\n",
      "HWdTech.IoC+SetupCommand\n",
      "CIName: Execute              Return Type: System.Void          Parametrs: None\n",
      "CIName: GetType              Return Type: System.Type          Parametrs: None\n",
      "CIName: ToString             Return Type: System.String        Parametrs: None\n",
      "CIName: Equals               Return Type: System.Boolean       Parametrs: System.Object\n",
      "CIName: GetHashCode          Return Type: System.Int32         Parametrs: None\n",
      "\n",
      "HWdTech.IoC+<>c\n",
      "CIName: GetType              Return Type: System.Type          Parametrs: None\n",
      "CIName: ToString             Return Type: System.String        Parametrs: None\n",
      "CIName: Equals               Return Type: System.Boolean       Parametrs: System.Object\n",
      "CIName: GetHashCode          Return Type: System.Int32         Parametrs: None\n",
      "\r\n"
     ]
    }
   ],
   "source": [
    "var classAndInterfacesFromCore = (\n",
    "            from type in allTypes\n",
    "            let methods = $\"{String.Join(\n",
    "                \"\\n\",\n",
    "                from method in type.GetMethods()\n",
    "                let parametrs = method.GetParameters().Length > 0\n",
    "                    ? String.Join(\", \", from p in method.GetParameters() select p.ParameterType)\n",
    "                    : \"None\"\n",
    "                select $\"CIName: {(string)(method.Name).PadRight(20)} Return Type: {method.ReturnType.ToString().PadRight(20)} Parametrs: {parametrs}\"\n",
    "            )}\\n\"\n",
    "            select $\"{type.FullName}\\n{methods}\"\n",
    "        );\n",
    "Console.WriteLine(String.Join(\"\\n\", classAndInterfacesFromCore));"
   ]
  }
 ],
 "metadata": {
  "kernelspec": {
   "display_name": ".NET (C#)",
   "language": "C#",
   "name": ".net-csharp"
  },
  "language_info": {
   "name": "python"
  },
  "polyglot_notebook": {
   "kernelInfo": {
    "defaultKernelName": "csharp",
    "items": [
     {
      "aliases": [],
      "name": "csharp"
     }
    ]
   }
  }
 },
 "nbformat": 4,
 "nbformat_minor": 2
}
